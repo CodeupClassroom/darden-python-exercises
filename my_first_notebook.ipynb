{
 "cells": [
  {
   "cell_type": "code",
   "execution_count": 1,
   "metadata": {},
   "outputs": [
    {
     "name": "stdout",
     "output_type": "stream",
     "text": [
      "Shift + Enter is how to run a notebook cell\n"
     ]
    }
   ],
   "source": [
    "print(\"Shift + Enter is how to run a notebook cell\")"
   ]
  },
  {
   "cell_type": "code",
   "execution_count": 5,
   "metadata": {},
   "outputs": [
    {
     "name": "stdout",
     "output_type": "stream",
     "text": [
      "Command + Z is UNDO within a cell\n"
     ]
    }
   ],
   "source": [
    "print(\"Command + Z is UNDO within a cell\")"
   ]
  },
  {
   "cell_type": "code",
   "execution_count": 6,
   "metadata": {},
   "outputs": [
    {
     "name": "stdout",
     "output_type": "stream",
     "text": [
      "Command + S is SAVE\n"
     ]
    }
   ],
   "source": [
    "print(\"Command + S is SAVE\")"
   ]
  },
  {
   "cell_type": "code",
   "execution_count": 8,
   "metadata": {},
   "outputs": [
    {
     "name": "stdout",
     "output_type": "stream",
     "text": [
      "There are two main modes in Jupyter\n"
     ]
    }
   ],
   "source": [
    "print(\"There are two main modes in Jupyter\")\n",
    "print(\"Command mode and edit mode\")\n",
    "print(\"When you are editing a cell, you're in edit mode\")\n",
    "print(\"When you hit ESC after editing a cell, you move to command mode\")"
   ]
  },
  {
   "cell_type": "code",
   "execution_count": 10,
   "metadata": {},
   "outputs": [
    {
     "name": "stdout",
     "output_type": "stream",
     "text": [
      "ESC then M turns a Python cell into a Markdown/text cell\n"
     ]
    }
   ],
   "source": [
    "print(\"ESC then M turns a Python cell into a Markdown/text cell\")\n",
    "print(\"ESC then Y to say 'Yes, I want code'\")"
   ]
  },
  {
   "cell_type": "markdown",
   "metadata": {},
   "source": [
    "Markdown Cells are Just Text\n",
    "print(\"ESC then M turns a Python cell into a Markdown/text cell\")"
   ]
  },
  {
   "cell_type": "code",
   "execution_count": 9,
   "metadata": {},
   "outputs": [
    {
     "name": "stdout",
     "output_type": "stream",
     "text": [
      "Command + Shift + P brings up the command pallette\n"
     ]
    }
   ],
   "source": [
    "print(\"Command + Shift + P brings up the command pallette\")"
   ]
  },
  {
   "cell_type": "code",
   "execution_count": null,
   "metadata": {},
   "outputs": [],
   "source": []
  }
 ],
 "metadata": {
  "kernelspec": {
   "display_name": "Python 3",
   "language": "python",
   "name": "python3"
  },
  "language_info": {
   "codemirror_mode": {
    "name": "ipython",
    "version": 3
   },
   "file_extension": ".py",
   "mimetype": "text/x-python",
   "name": "python",
   "nbconvert_exporter": "python",
   "pygments_lexer": "ipython3",
   "version": "3.7.3"
  }
 },
 "nbformat": 4,
 "nbformat_minor": 4
}
