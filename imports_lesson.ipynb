{
 "cells": [
  {
   "cell_type": "markdown",
   "metadata": {},
   "source": [
    "# Imports\n",
    "\n",
    "Why / Def: **importing** makes a name or multiple names within a **module** available in the current module/notebook. Allows for code re-use.\n",
    "\n",
    "Context: Where do we import from?\n",
    "\n",
    "- stdlib\n",
    "- 3rd party libs\n",
    "- other modules"
   ]
  },
  {
   "cell_type": "markdown",
   "metadata": {},
   "source": [
    "Demo: importing from the stdlib\n",
    "\n",
    "- `time.sleep`\n",
    "- `time.ctime`\n",
    "- `os.listdir`\n",
    "- `sys.version`"
   ]
  },
  {
   "cell_type": "markdown",
   "metadata": {},
   "source": [
    "4 ways to import:\n",
    "\n",
    "- `import module`\n",
    "- `from module import name`\n",
    "- both of the above with aliases"
   ]
  },
  {
   "cell_type": "markdown",
   "metadata": {},
   "source": [
    "Demo: Create a seperate module and import from it"
   ]
  },
  {
   "cell_type": "markdown",
   "metadata": {},
   "source": [
    "Import easter eggs"
   ]
  }
 ],
 "metadata": {
  "kernelspec": {
   "display_name": "Python 3",
   "language": "python",
   "name": "python3"
  },
  "language_info": {
   "codemirror_mode": {
    "name": "ipython",
    "version": 3
   },
   "file_extension": ".py",
   "mimetype": "text/x-python",
   "name": "python",
   "nbconvert_exporter": "python",
   "pygments_lexer": "ipython3",
   "version": "3.7.3"
  }
 },
 "nbformat": 4,
 "nbformat_minor": 4
}
