{
 "cells": [
  {
   "cell_type": "code",
   "execution_count": 1,
   "metadata": {},
   "outputs": [
    {
     "name": "stdout",
     "output_type": "stream",
     "text": [
      "Proceed through the intersection\n"
     ]
    }
   ],
   "source": [
    "# Model a red light as a conditional\n",
    "\n",
    "# if the light is green, proceed with caution\n",
    "# if the light is red, come to a full and complete stop\n",
    "# if the light is yellow, it depends\n",
    "# if you have room to stop safely, then stop\n",
    "# if you're almost through the light, then continue\n",
    "\n",
    "light_color = \"yellow\"\n",
    "you_can_stop_safely = False\n",
    "\n",
    "if light_color == \"green\":\n",
    "    print(\"Proceed with caution\")\n",
    "elif light_color == \"yellow\":\n",
    "    if you_can_stop_safely:\n",
    "        print(\"Come to a full and complete stop.\")\n",
    "    else:\n",
    "        print(\"Proceed through the intersection\")\n",
    "elif light_color == \"red\":\n",
    "    print(\"Come to a full and complete stop\")\n",
    "else:\n",
    "    print(\"Consult your physician.\")"
   ]
  },
  {
   "cell_type": "code",
   "execution_count": 2,
   "metadata": {},
   "outputs": [
    {
     "name": "stdout",
     "output_type": "stream",
     "text": [
      "1\n",
      "2\n",
      "3\n",
      "4\n"
     ]
    }
   ],
   "source": [
    "# For loop example\n",
    "for i in range(1, 5):\n",
    "    print(i)"
   ]
  },
  {
   "cell_type": "code",
   "execution_count": 3,
   "metadata": {},
   "outputs": [
    {
     "data": {
      "text/plain": [
       "True"
      ]
     },
     "execution_count": 3,
     "metadata": {},
     "output_type": "execute_result"
    }
   ],
   "source": [
    "1 in range(1, 5)"
   ]
  },
  {
   "cell_type": "code",
   "execution_count": 4,
   "metadata": {},
   "outputs": [
    {
     "data": {
      "text/plain": [
       "True"
      ]
     },
     "execution_count": 4,
     "metadata": {},
     "output_type": "execute_result"
    }
   ],
   "source": [
    "\"an\" in \"banana\""
   ]
  },
  {
   "cell_type": "code",
   "execution_count": 5,
   "metadata": {},
   "outputs": [
    {
     "data": {
      "text/plain": [
       "True"
      ]
     },
     "execution_count": 5,
     "metadata": {},
     "output_type": "execute_result"
    }
   ],
   "source": [
    "\"George\" in [\"George\", \"John\", \"Paul\", \"Ringo\"]"
   ]
  },
  {
   "cell_type": "code",
   "execution_count": 6,
   "metadata": {},
   "outputs": [],
   "source": [
    "# \"Maggie\" in [\"Maggie\", \"Zach\", \"Faith\", \"Ryan\"]"
   ]
  },
  {
   "cell_type": "code",
   "execution_count": 7,
   "metadata": {},
   "outputs": [
    {
     "name": "stdout",
     "output_type": "stream",
     "text": [
      "Maggie\n",
      "Zach\n",
      "Faith\n",
      "Ryan\n"
     ]
    }
   ],
   "source": [
    "for instructor in [\"Maggie\", \"Zach\", \"Faith\", \"Ryan\"]:\n",
    "    print(instructor)"
   ]
  },
  {
   "cell_type": "markdown",
   "metadata": {},
   "source": [
    "For loops are great for numbers, sequences, and iterating collections like lists"
   ]
  },
  {
   "cell_type": "code",
   "execution_count": 8,
   "metadata": {},
   "outputs": [
    {
     "name": "stdout",
     "output_type": "stream",
     "text": [
      "Total after purchasing the tea is 1.99\n",
      "Total after adding on the spring rolls is 7.98\n",
      "Total after adding the entre is 15.97\n"
     ]
    },
    {
     "data": {
      "text/plain": [
       "15.97"
      ]
     },
     "execution_count": 8,
     "metadata": {},
     "output_type": "execute_result"
    }
   ],
   "source": [
    "# Scenario\n",
    "total = 0\n",
    "\n",
    "# add an iced tea\n",
    "total = total + 1.99\n",
    "print(f\"Total after purchasing the tea is {total}\")\n",
    "\n",
    "# add some spring rolls\n",
    "total = total + 5.99\n",
    "print(f\"Total after adding on the spring rolls is {total}\")\n",
    "\n",
    "# add a stir fry entre\n",
    "total = total + 7.99\n",
    "print(f\"Total after adding the entre is {total}\")\n",
    "\n",
    "total"
   ]
  },
  {
   "cell_type": "code",
   "execution_count": 9,
   "metadata": {},
   "outputs": [],
   "source": [
    "i = 0"
   ]
  },
  {
   "cell_type": "code",
   "execution_count": 10,
   "metadata": {},
   "outputs": [
    {
     "data": {
      "text/plain": [
       "1"
      ]
     },
     "execution_count": 10,
     "metadata": {},
     "output_type": "execute_result"
    }
   ],
   "source": [
    "i = i + 1\n",
    "i"
   ]
  },
  {
   "cell_type": "code",
   "execution_count": 11,
   "metadata": {},
   "outputs": [
    {
     "data": {
      "text/plain": [
       "2"
      ]
     },
     "execution_count": 11,
     "metadata": {},
     "output_type": "execute_result"
    }
   ],
   "source": [
    "# newvalue = oldvalue + 1\n",
    "i = i + 1\n",
    "i"
   ]
  },
  {
   "cell_type": "code",
   "execution_count": 12,
   "metadata": {},
   "outputs": [
    {
     "data": {
      "text/plain": [
       "3"
      ]
     },
     "execution_count": 12,
     "metadata": {},
     "output_type": "execute_result"
    }
   ],
   "source": [
    "# += is shorthand for i = i + 1\n",
    "# += is shorthand for variable = variable + 1\n",
    "i += 1\n",
    "i"
   ]
  },
  {
   "cell_type": "code",
   "execution_count": 13,
   "metadata": {},
   "outputs": [
    {
     "name": "stdout",
     "output_type": "stream",
     "text": [
      "0\n",
      "1\n",
      "2\n",
      "3\n",
      "4\n",
      "5\n",
      "6\n",
      "7\n",
      "8\n",
      "9\n",
      "10\n"
     ]
    }
   ],
   "source": [
    "i = 0\n",
    "while i <= 10:\n",
    "    print(i)\n",
    "    i = i + 1"
   ]
  },
  {
   "cell_type": "code",
   "execution_count": 14,
   "metadata": {},
   "outputs": [
    {
     "name": "stdout",
     "output_type": "stream",
     "text": [
      "1\n",
      "2\n",
      "3\n",
      "4\n",
      "6\n",
      "8\n",
      "9\n",
      "10\n"
     ]
    }
   ],
   "source": [
    "# Skip 5 and 7\n",
    "for i in range(1, 11):\n",
    "    if i == 5 or i == 7:\n",
    "        continue\n",
    "    else:\n",
    "        print(i)\n",
    "    "
   ]
  },
  {
   "cell_type": "code",
   "execution_count": 15,
   "metadata": {},
   "outputs": [
    {
     "name": "stdout",
     "output_type": "stream",
     "text": [
      "Here is an odd number: 1\n",
      "Here is an odd number: 3\n",
      "Here is an odd number: 5\n",
      "Here is an odd number: 7\n",
      "Here is an odd number: 9\n"
     ]
    }
   ],
   "source": [
    "for n in range(10):\n",
    "    if n % 2 == 0:\n",
    "        continue\n",
    "    print('Here is an odd number: {}'.format(n))"
   ]
  },
  {
   "cell_type": "code",
   "execution_count": 16,
   "metadata": {},
   "outputs": [
    {
     "name": "stdout",
     "output_type": "stream",
     "text": [
      "Here is an odd number: 1\n",
      "Here is an odd number: 3\n",
      "Here is an odd number: 5\n",
      "Here is an odd number: 7\n",
      "Here is an odd number: 9\n"
     ]
    }
   ],
   "source": [
    "for n in range(10):\n",
    "    if n % 2 != 0:\n",
    "        print('Here is an odd number: {}'.format(n))"
   ]
  },
  {
   "cell_type": "code",
   "execution_count": 17,
   "metadata": {},
   "outputs": [
    {
     "data": {
      "text/plain": [
       "[{'name': 'age', 'type': 'int', 'data': [20, 25, 43, 11, 15, 53, 36]},\n",
       " {'name': 'is_vegetarian',\n",
       "  'type': 'boolean',\n",
       "  'data': [False, True, False, False, True, False, False]},\n",
       " {'name': 'shoe size', 'type': 'int', 'data': [8, 11, 7, 10, 7, 9, 10]},\n",
       " {'name': 'ISP',\n",
       "  'type': 'categorical',\n",
       "  'data': ['AT&T',\n",
       "   'Spectrum',\n",
       "   'Spectrum',\n",
       "   'Spectrum',\n",
       "   'AT&T',\n",
       "   'Spectrum',\n",
       "   'AT&T']},\n",
       " {'name': 'BMI',\n",
       "  'type': 'float',\n",
       "  'data': [29.9, 20.4, 23.3, 21.7, 22.2, 22.8, 27.0]}]"
      ]
     },
     "execution_count": 17,
     "metadata": {},
     "output_type": "execute_result"
    }
   ],
   "source": [
    "dataset = [{'name': 'age', 'type': 'int', 'data': [20, 25, 43, 11, 15, 53, 36]},\n",
    "           {'name': 'is_vegetarian', 'type': 'boolean', 'data': [False, True, False, False, True, False, False]},\n",
    "           {'name': 'shoe size', 'type': 'int', 'data': [8, 11, 7, 10, 7, 9, 10]},\n",
    "           {'name': 'ISP', 'type': 'categorical', 'data': ['AT&T', 'Spectrum', 'Spectrum', 'Spectrum', 'AT&T', 'Spectrum', 'AT&T']},\n",
    "           {'name': 'BMI', 'type': 'float', 'data': [29.9, 20.4, 23.3, 21.7, 22.2, 22.8, 27.0]}]\n",
    "dataset"
   ]
  },
  {
   "cell_type": "code",
   "execution_count": 18,
   "metadata": {},
   "outputs": [
    {
     "data": {
      "text/plain": [
       "{'name': 'age', 'type': 'int', 'data': [20, 25, 43, 11, 15, 53, 36]}"
      ]
     },
     "execution_count": 18,
     "metadata": {},
     "output_type": "execute_result"
    }
   ],
   "source": [
    "# print the averages for the numeric data\n",
    "feature = dataset[0]\n",
    "feature"
   ]
  },
  {
   "cell_type": "code",
   "execution_count": 19,
   "metadata": {},
   "outputs": [
    {
     "data": {
      "text/plain": [
       "[20, 25, 43, 11, 15, 53, 36]"
      ]
     },
     "execution_count": 19,
     "metadata": {},
     "output_type": "execute_result"
    }
   ],
   "source": [
    "# Access a value from its key\n",
    "# dictionary_variable[\"key_name\"] will point to the value at that key\n",
    "feature[\"data\"]"
   ]
  },
  {
   "cell_type": "code",
   "execution_count": 20,
   "metadata": {},
   "outputs": [
    {
     "data": {
      "text/plain": [
       "'The average age is 29.0'"
      ]
     },
     "execution_count": 20,
     "metadata": {},
     "output_type": "execute_result"
    }
   ],
   "source": [
    "average = sum(feature[\"data\"]) / len(feature[\"data\"])\n",
    "f\"The average age is {average}\""
   ]
  },
  {
   "cell_type": "code",
   "execution_count": 21,
   "metadata": {},
   "outputs": [
    {
     "name": "stdout",
     "output_type": "stream",
     "text": [
      "The average age is 29.0\n"
     ]
    }
   ],
   "source": [
    "if feature[\"type\"] == \"categorical\" or feature[\"type\"] == \"boolean\":\n",
    "    print(f\"The {feature['name']} feature is not a numberic type, it is a {feature['type']}\")\n",
    "else:\n",
    "    average = sum(feature[\"data\"]) / len(feature[\"data\"])\n",
    "    print(f\"The average {feature['name']} is {average}\")"
   ]
  },
  {
   "cell_type": "code",
   "execution_count": 22,
   "metadata": {},
   "outputs": [
    {
     "name": "stdout",
     "output_type": "stream",
     "text": [
      "The average age is 29.0\n",
      "The is_vegetarian feature is not a numberic type, it is a boolean\n",
      "The average shoe size is 8.857142857142858\n",
      "The ISP feature is not a numberic type, it is a categorical\n",
      "The average BMI is 23.900000000000002\n"
     ]
    }
   ],
   "source": [
    "for feature in dataset:\n",
    "    if feature[\"type\"] == \"categorical\" or feature[\"type\"] == \"boolean\":\n",
    "        print(f\"The {feature['name']} feature is not a numberic type, it is a {feature['type']}\")\n",
    "    else:\n",
    "        average = sum(feature[\"data\"]) / len(feature[\"data\"])\n",
    "        print(f\"The average {feature['name']} is {average}\")"
   ]
  },
  {
   "cell_type": "code",
   "execution_count": null,
   "metadata": {},
   "outputs": [],
   "source": []
  }
 ],
 "metadata": {
  "kernelspec": {
   "display_name": "Python 3",
   "language": "python",
   "name": "python3"
  },
  "language_info": {
   "codemirror_mode": {
    "name": "ipython",
    "version": 3
   },
   "file_extension": ".py",
   "mimetype": "text/x-python",
   "name": "python",
   "nbconvert_exporter": "python",
   "pygments_lexer": "ipython3",
   "version": "3.7.3"
  }
 },
 "nbformat": 4,
 "nbformat_minor": 4
}
