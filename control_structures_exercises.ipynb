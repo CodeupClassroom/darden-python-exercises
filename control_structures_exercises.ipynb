{
 "cells": [
  {
   "cell_type": "markdown",
   "metadata": {},
   "source": [
    "1. Conditional Basics\n",
    "    - prompt the user for a day of the week, print out whether the day is Monday or not\n",
    "    - prompt the user for a day of the week, print out whether the day is a weekday or a weekend\n",
    "    - create variables and make up values for\n",
    "        - the number of hours worked in one week\n",
    "        - the hourly rate\n",
    "        - how much the week's paycheck will be\n",
    "        - write the python code that calculates the weekly paycheck. You get \n",
    "        - paid time and a half if you work more than 40 hours"
   ]
  },
  {
   "cell_type": "code",
   "execution_count": 1,
   "metadata": {},
   "outputs": [
    {
     "ename": "KeyboardInterrupt",
     "evalue": "Interrupted by user",
     "output_type": "error",
     "traceback": [
      "\u001b[0;31m---------------------------------------------------------------------------\u001b[0m",
      "\u001b[0;31mKeyboardInterrupt\u001b[0m                         Traceback (most recent call last)",
      "\u001b[0;32m<ipython-input-1-684ee3e4fd1e>\u001b[0m in \u001b[0;36m<module>\u001b[0;34m\u001b[0m\n\u001b[0;32m----> 1\u001b[0;31m \u001b[0mday_of_week\u001b[0m \u001b[0;34m=\u001b[0m \u001b[0minput\u001b[0m\u001b[0;34m(\u001b[0m\u001b[0;34m\"What day of the week is it today?\"\u001b[0m\u001b[0;34m)\u001b[0m\u001b[0;34m\u001b[0m\u001b[0;34m\u001b[0m\u001b[0m\n\u001b[0m\u001b[1;32m      2\u001b[0m \u001b[0;34m\u001b[0m\u001b[0m\n\u001b[1;32m      3\u001b[0m \u001b[0;32mif\u001b[0m \u001b[0mday_of_week\u001b[0m\u001b[0;34m.\u001b[0m\u001b[0mlower\u001b[0m\u001b[0;34m(\u001b[0m\u001b[0;34m)\u001b[0m \u001b[0;34m==\u001b[0m \u001b[0;34m\"monday\"\u001b[0m\u001b[0;34m:\u001b[0m\u001b[0;34m\u001b[0m\u001b[0;34m\u001b[0m\u001b[0m\n\u001b[1;32m      4\u001b[0m     \u001b[0mprint\u001b[0m\u001b[0;34m(\u001b[0m\u001b[0;34m\"Monday is awesome\"\u001b[0m\u001b[0;34m)\u001b[0m\u001b[0;34m\u001b[0m\u001b[0;34m\u001b[0m\u001b[0m\n\u001b[1;32m      5\u001b[0m \u001b[0;34m\u001b[0m\u001b[0m\n",
      "\u001b[0;32m/usr/local/anaconda3/lib/python3.7/site-packages/ipykernel/kernelbase.py\u001b[0m in \u001b[0;36mraw_input\u001b[0;34m(self, prompt)\u001b[0m\n\u001b[1;32m    861\u001b[0m             \u001b[0mself\u001b[0m\u001b[0;34m.\u001b[0m\u001b[0m_parent_ident\u001b[0m\u001b[0;34m,\u001b[0m\u001b[0;34m\u001b[0m\u001b[0;34m\u001b[0m\u001b[0m\n\u001b[1;32m    862\u001b[0m             \u001b[0mself\u001b[0m\u001b[0;34m.\u001b[0m\u001b[0m_parent_header\u001b[0m\u001b[0;34m,\u001b[0m\u001b[0;34m\u001b[0m\u001b[0;34m\u001b[0m\u001b[0m\n\u001b[0;32m--> 863\u001b[0;31m             \u001b[0mpassword\u001b[0m\u001b[0;34m=\u001b[0m\u001b[0;32mFalse\u001b[0m\u001b[0;34m,\u001b[0m\u001b[0;34m\u001b[0m\u001b[0;34m\u001b[0m\u001b[0m\n\u001b[0m\u001b[1;32m    864\u001b[0m         )\n\u001b[1;32m    865\u001b[0m \u001b[0;34m\u001b[0m\u001b[0m\n",
      "\u001b[0;32m/usr/local/anaconda3/lib/python3.7/site-packages/ipykernel/kernelbase.py\u001b[0m in \u001b[0;36m_input_request\u001b[0;34m(self, prompt, ident, parent, password)\u001b[0m\n\u001b[1;32m    902\u001b[0m             \u001b[0;32mexcept\u001b[0m \u001b[0mKeyboardInterrupt\u001b[0m\u001b[0;34m:\u001b[0m\u001b[0;34m\u001b[0m\u001b[0;34m\u001b[0m\u001b[0m\n\u001b[1;32m    903\u001b[0m                 \u001b[0;31m# re-raise KeyboardInterrupt, to truncate traceback\u001b[0m\u001b[0;34m\u001b[0m\u001b[0;34m\u001b[0m\u001b[0;34m\u001b[0m\u001b[0m\n\u001b[0;32m--> 904\u001b[0;31m                 \u001b[0;32mraise\u001b[0m \u001b[0mKeyboardInterrupt\u001b[0m\u001b[0;34m(\u001b[0m\u001b[0;34m\"Interrupted by user\"\u001b[0m\u001b[0;34m)\u001b[0m \u001b[0;32mfrom\u001b[0m \u001b[0;32mNone\u001b[0m\u001b[0;34m\u001b[0m\u001b[0;34m\u001b[0m\u001b[0m\n\u001b[0m\u001b[1;32m    905\u001b[0m             \u001b[0;32mexcept\u001b[0m \u001b[0mException\u001b[0m \u001b[0;32mas\u001b[0m \u001b[0me\u001b[0m\u001b[0;34m:\u001b[0m\u001b[0;34m\u001b[0m\u001b[0;34m\u001b[0m\u001b[0m\n\u001b[1;32m    906\u001b[0m                 \u001b[0mself\u001b[0m\u001b[0;34m.\u001b[0m\u001b[0mlog\u001b[0m\u001b[0;34m.\u001b[0m\u001b[0mwarning\u001b[0m\u001b[0;34m(\u001b[0m\u001b[0;34m\"Invalid Message:\"\u001b[0m\u001b[0;34m,\u001b[0m \u001b[0mexc_info\u001b[0m\u001b[0;34m=\u001b[0m\u001b[0;32mTrue\u001b[0m\u001b[0;34m)\u001b[0m\u001b[0;34m\u001b[0m\u001b[0;34m\u001b[0m\u001b[0m\n",
      "\u001b[0;31mKeyboardInterrupt\u001b[0m: Interrupted by user"
     ]
    }
   ],
   "source": [
    "day_of_week = input(\"What day of the week is it today?\")\n",
    "\n",
    "if day_of_week.lower() == \"monday\":\n",
    "    print(\"Monday is awesome\")\n",
    "\n",
    "if day_of_week.lower() in [\"saturday\", \"sunday\"]:\n",
    "    print(f\"{day_of_week} is in the weekend!\")\n",
    "else:\n",
    "    print(f\"{day_of_week} is a weekday. Get back to work!\")"
   ]
  },
  {
   "cell_type": "code",
   "execution_count": null,
   "metadata": {},
   "outputs": [],
   "source": [
    "number_of_hours_worked = 50\n",
    "hourly_rate = 39\n",
    "\n",
    "if number_of_hours_worked <= 40:\n",
    "    paycheck = number_of_hours_worked * hourly_rate\n",
    "else:\n",
    "    # full 40 hours + overtime\n",
    "    overtime_hours = number_of_hours_worked - 40\n",
    "    regular_pay = 40 * hourly_rate\n",
    "    overtime_pay = overtime_hours * (hourly_rate * 1.5)\n",
    "    paycheck = regular_pay + overtime_pay\n",
    "\n",
    "paycheck"
   ]
  },
  {
   "cell_type": "markdown",
   "metadata": {},
   "source": [
    "While\n",
    "\n",
    "Create an integer variable i with a value of 5.\n",
    "Create a while loop that runs so long as i is less than or equal to 15\n",
    "Each loop iteration, output the current value of i, then increment i by one."
   ]
  },
  {
   "cell_type": "code",
   "execution_count": null,
   "metadata": {},
   "outputs": [],
   "source": [
    "i = 5\n",
    "\n",
    "# while loops run when the condition is true\n",
    "while i <= 15:\n",
    "    print(i)\n",
    "    i += 1\n"
   ]
  },
  {
   "cell_type": "code",
   "execution_count": null,
   "metadata": {},
   "outputs": [],
   "source": [
    "# Create a while loop that will count by 2's \n",
    "# starting with 0 and ending at 100. \n",
    "# Follow each number with a new line.\n",
    "i = 0\n",
    "\n",
    "while i <= 100:\n",
    "    print(i)\n",
    "    i += 2\n"
   ]
  },
  {
   "cell_type": "code",
   "execution_count": null,
   "metadata": {},
   "outputs": [],
   "source": [
    "# Alter your loop to count backwards by 5's from 100 to -10.\n",
    "i = 100\n",
    "while i >= -10:\n",
    "    print(i)\n",
    "    i -= 5"
   ]
  },
  {
   "cell_type": "code",
   "execution_count": null,
   "metadata": {},
   "outputs": [],
   "source": [
    "# Create a while loop that starts at 2, \n",
    "# and displays the number squared on each line \n",
    "# while the number is less than 1,000,000. Output should equal:\n",
    "\n",
    "i = 2\n",
    "\n",
    "while i < 1_000_000:\n",
    "    print(i)\n",
    "    i = i ** 2"
   ]
  },
  {
   "cell_type": "code",
   "execution_count": null,
   "metadata": {},
   "outputs": [],
   "source": [
    "i = 100\n",
    "while i >= 5:\n",
    "    print(i)\n",
    "    i -= 5"
   ]
  },
  {
   "cell_type": "code",
   "execution_count": null,
   "metadata": {},
   "outputs": [],
   "source": [
    "# Strategy for Solving Problems - solve the easy part 1st\n",
    "\n",
    "# Hard code the input (for now and only now)\n",
    "# number = 7  (a good candidate for a hard-coded example is the example code you're trying to mimic\n",
    "\n",
    "# Go back and change your hard-coded part of the approach\n",
    "number = int(input(\"Please input a number\"))\n",
    "\n",
    "for i in range(1, 11):\n",
    "    result = number * i\n",
    "    print(f\"{number} x {i} = {result}\")"
   ]
  },
  {
   "cell_type": "code",
   "execution_count": null,
   "metadata": {},
   "outputs": [],
   "source": [
    "for i in range(1, 10):\n",
    "    print(str(i) * i)"
   ]
  },
  {
   "cell_type": "code",
   "execution_count": null,
   "metadata": {},
   "outputs": [],
   "source": [
    "# Repeat a string a given amount of times....\n",
    "\"banana\" * 0"
   ]
  },
  {
   "cell_type": "markdown",
   "metadata": {},
   "source": [
    "Prompt the user for an odd number between 1 and 50. Use a loop and a break statement to continue prompting the user if they enter invalid input. (Hint: use the isdigit method on strings to determine this). Use a loop and the continue statement to output all the odd numbers between 1 and 50, except for the number the user entered.\n",
    "\n"
   ]
  },
  {
   "cell_type": "code",
   "execution_count": null,
   "metadata": {},
   "outputs": [],
   "source": [
    "while True:\n",
    "    user_number = input(\"Please input a number between 1 and 50\\n\")\n",
    "    \n",
    "    if user_number.isdigit():\n",
    "        user_number = int(user_number)\n",
    "    \n",
    "        large_enough = user_number > 1\n",
    "        small_enough = user_number < 50\n",
    "        odd = user_number % 2 != 0\n",
    "        \n",
    "        if large_enough and small_enough and odd:\n",
    "            break\n",
    "        else:\n",
    "            print(\"Your input must be less than 50 and odd and greater than 1\\n\")\n",
    "    else:\n",
    "        print(\"Your input must be numerals, please.\\n\")\n",
    "        \n",
    "user_number"
   ]
  },
  {
   "cell_type": "code",
   "execution_count": null,
   "metadata": {},
   "outputs": [],
   "source": [
    "# Here's what we can do with functions:\n",
    "def get_odd_number_between_1_and_50():\n",
    "    while True:\n",
    "        user_number = input(\"Please input a number between 1 and 50\\n\")\n",
    "\n",
    "        if user_number.isdigit():\n",
    "            user_number = int(user_number)\n",
    "\n",
    "            large_enough = user_number > 1\n",
    "            small_enough = user_number < 50\n",
    "            odd = user_number % 2 != 0\n",
    "\n",
    "            if large_enough and small_enough and odd:\n",
    "                break\n",
    "            else:\n",
    "                print(\"Your input must be less than 50 and odd and greater than 1\\n\")\n",
    "        else:\n",
    "            print(\"Your input must be numerals, please.\\n\")\n",
    "\n",
    "    return user_number"
   ]
  },
  {
   "cell_type": "code",
   "execution_count": null,
   "metadata": {},
   "outputs": [],
   "source": [
    "user_number = get_odd_number_between_1_and_50()"
   ]
  },
  {
   "cell_type": "code",
   "execution_count": null,
   "metadata": {},
   "outputs": [],
   "source": [
    "\n",
    "# Use a loop and the continue statement to output all the odd numbers between 1 and 50, except for the number the user entered.\n",
    "print(f\"Number to skip is {user_number}\")\n",
    "print() # prints an extra new line\n",
    "\n",
    "for i in range(1, 50, 2):\n",
    "    if i == user_number:\n",
    "        print(f\"Yikes! Skipping number: {i}\")\n",
    "        continue\n",
    "    print(f\"Here is an odd number: {i}\")    \n"
   ]
  },
  {
   "cell_type": "code",
   "execution_count": null,
   "metadata": {},
   "outputs": [],
   "source": [
    "#The input function can be used to prompt for input and use that input in your python code.\n",
    "# Prompt the user to enter a positive number \n",
    "# and write a loop that counts from 0 to that number. \n",
    "\n",
    "user_number = input(\"Please enter a number:\\n\")\n",
    "print(user_number)\n",
    "print(\"user_number is of type\" + str(type(user_number)))\n",
    "\n",
    "if user_number.isdigit():\n",
    "    user_number = int(user_number)\n",
    "\n",
    "    if user_number > 0:\n",
    "        for i in range(0, user_number + 1):\n",
    "            print(i)\n",
    "else:\n",
    "    print(\"Your input must be a number written in numerals\")"
   ]
  },
  {
   "cell_type": "code",
   "execution_count": null,
   "metadata": {},
   "outputs": [],
   "source": [
    "float(2.3) == int(2.3)\n",
    "print(float(2.3))\n",
    "print(int(2.3))"
   ]
  },
  {
   "cell_type": "code",
   "execution_count": null,
   "metadata": {},
   "outputs": [],
   "source": [
    "# Write a program that prompts the user for a positive integer. \n",
    "# Next write a loop that prints out the numbers \n",
    "# from the number the user entered down to 1.\n",
    "while True:\n",
    "    user_number = input(\"Please input a positive integer \\n\")\n",
    "    \n",
    "    if (user_number.isdigit() # ensure the input string only contains numerals\n",
    "        and\n",
    "    \n",
    "        # ensure the float of the number == int of the number\n",
    "        float(user_number) == int(user_number) and\n",
    "        \n",
    "        # ensure the integer version of the number is greater than zero.\n",
    "        int(user_number) > 0):\n",
    "        \n",
    "        # reassign user_number to be an integer\n",
    "        user_number = int(user_number)\n",
    "        \n",
    "        # End the loop\n",
    "        break \n",
    "    else:\n",
    "        print(\"Your input must be numeric, positive integer value.\")\n",
    "        \n",
    "user_number"
   ]
  },
  {
   "cell_type": "code",
   "execution_count": null,
   "metadata": {},
   "outputs": [],
   "source": [
    "# Example counting down by one\n",
    "# for i in range(4, 0, -1):\n",
    "#     print(i)\n",
    "\n",
    "for i in range(user_number, 0, -1):\n",
    "    print(i)"
   ]
  },
  {
   "cell_type": "markdown",
   "metadata": {},
   "source": [
    "### FizzBuzz\n",
    "\n",
    "- Write a program that prints the numbers from 1 to 100.\n",
    "- For multiples of three print \"Fizz\" instead of the number\n",
    "- For the multiples of five print \"Buzz\".\n",
    "- For numbers which are multiples of both three and five print \"FizzBuzz\".\n",
    "\n",
    "btw: control + shift + minus sign splits a cell into two, wherever your cursor is.."
   ]
  },
  {
   "cell_type": "code",
   "execution_count": 7,
   "metadata": {},
   "outputs": [
    {
     "name": "stdout",
     "output_type": "stream",
     "text": [
      "1\n",
      "2\n",
      "Fizz\n",
      "4\n",
      "Buzz\n",
      "Fizz\n",
      "7\n",
      "8\n",
      "Fizz\n",
      "Buzz\n",
      "11\n",
      "Fizz\n",
      "13\n",
      "14\n",
      "FizzBuzz\n",
      "16\n",
      "17\n",
      "Fizz\n",
      "19\n",
      "Buzz\n",
      "Fizz\n",
      "22\n",
      "23\n",
      "Fizz\n",
      "Buzz\n",
      "26\n",
      "Fizz\n",
      "28\n",
      "29\n",
      "FizzBuzz\n",
      "31\n",
      "32\n",
      "Fizz\n",
      "34\n",
      "Buzz\n",
      "Fizz\n",
      "37\n",
      "38\n",
      "Fizz\n",
      "Buzz\n",
      "41\n",
      "Fizz\n",
      "43\n",
      "44\n",
      "FizzBuzz\n",
      "46\n",
      "47\n",
      "Fizz\n",
      "49\n",
      "Buzz\n",
      "Fizz\n",
      "52\n",
      "53\n",
      "Fizz\n",
      "Buzz\n",
      "56\n",
      "Fizz\n",
      "58\n",
      "59\n",
      "FizzBuzz\n",
      "61\n",
      "62\n",
      "Fizz\n",
      "64\n",
      "Buzz\n",
      "Fizz\n",
      "67\n",
      "68\n",
      "Fizz\n",
      "Buzz\n",
      "71\n",
      "Fizz\n",
      "73\n",
      "74\n",
      "FizzBuzz\n",
      "76\n",
      "77\n",
      "Fizz\n",
      "79\n",
      "Buzz\n",
      "Fizz\n",
      "82\n",
      "83\n",
      "Fizz\n",
      "Buzz\n",
      "86\n",
      "Fizz\n",
      "88\n",
      "89\n",
      "FizzBuzz\n",
      "91\n",
      "92\n",
      "Fizz\n",
      "94\n",
      "Buzz\n",
      "Fizz\n",
      "97\n",
      "98\n",
      "Fizz\n",
      "Buzz\n"
     ]
    }
   ],
   "source": [
    "for i in range(1, 101):\n",
    "    # B/c order matters (BIG TIME) with if/elif/elif/else\n",
    "    # Put your most strict conditional first\n",
    "    if i % 3 == 0 and i % 5 == 0:\n",
    "        print(\"FizzBuzz\")\n",
    "    elif i % 5 == 0:\n",
    "        print(\"Buzz\")\n",
    "    elif i % 3 == 0:\n",
    "        print(\"Fizz\")\n",
    "    else:\n",
    "        print(i)"
   ]
  },
  {
   "cell_type": "markdown",
   "metadata": {},
   "source": [
    "### Display a table of powers.\n",
    "\n",
    "- Prompt the user to enter an integer.\n",
    "- Display a table of squares and cubes from 1 to the value entered.\n",
    "- Ask if the user wants to continue.\n",
    "- Assume that the user will enter valid data.\n",
    "- Only continue if the user agrees to."
   ]
  },
  {
   "cell_type": "code",
   "execution_count": 14,
   "metadata": {},
   "outputs": [
    {
     "name": "stdout",
     "output_type": "stream",
     "text": [
      "Please input an integer3\n",
      "Here is your table!\n",
      "number | squared | cubed\n",
      "------ | ------- | -----\n",
      "1     |   1   |   1\n",
      "2     |   4   |   8\n",
      "3     |   9   |   27\n",
      "Press Y or yes to continue... \n",
      "y\n",
      "Thanks for using the table of powers generator!\n"
     ]
    }
   ],
   "source": [
    "while True:\n",
    "    \n",
    "    user_number = int(input(\"Please input an integer\"))\n",
    "\n",
    "    print(\"Here is your table!\")\n",
    "\n",
    "    print(\"number | squared | cubed\")\n",
    "    print(\"------ | ------- | -----\")\n",
    "    for i in range(1, user_number + 1):\n",
    "        print(f\"{i}     |   {i**2}   |   {i ** 3}\")\n",
    "    \n",
    "    wants_to_continue = input(\"Press Y or yes to continue... \\n\")\n",
    "\n",
    "    # if yoou don't want to continue, we're done here...\n",
    "    if wants_to_continue not in [\"y\", \"yes\", \"Y\", \"Yes\"]:\n",
    "        break\n",
    "    \n",
    "print(\"Thanks for using the table of powers generator!\")"
   ]
  },
  {
   "cell_type": "code",
   "execution_count": 18,
   "metadata": {},
   "outputs": [
    {
     "name": "stdout",
     "output_type": "stream",
     "text": [
      "Please input a number grade55\n",
      "F\n",
      "Do you want to continue? Press Y or yes to continue... \n",
      "y\n",
      "Please input a number grade77\n",
      "C\n",
      "Do you want to continue? Press Y or yes to continue... \n",
      "y\n",
      "Please input a number grade97\n",
      "A\n",
      "Do you want to continue? Press Y or yes to continue... \n",
      "no\n",
      "Thanks for using the grading machine!\n"
     ]
    }
   ],
   "source": [
    "while True:\n",
    "    number_grade = input(\"Please input a number grade\")\n",
    "    number_grade = int(number_grade)\n",
    "\n",
    "    if number_grade >= 88:\n",
    "        print(\"A\")\n",
    "    elif number_grade >= 80:\n",
    "        print(\"B\")\n",
    "    elif number_grade >= 67:\n",
    "        print(\"C\")\n",
    "    elif number_grade >= 60:\n",
    "        print(\"D\")\n",
    "    else:\n",
    "        print(\"F\")\n",
    "     \n",
    "    wants_to_continue = input(\"Do you want to continue? Press Y or yes to continue... \\n\")\n",
    "\n",
    "    # if yoou don't want to continue, we're done here...\n",
    "    if wants_to_continue not in [\"y\", \"yes\", \"Y\", \"Yes\"]:\n",
    "        break\n",
    "\n",
    "print(\"Thanks for using the grading machine!\")"
   ]
  },
  {
   "cell_type": "code",
   "execution_count": 10,
   "metadata": {},
   "outputs": [
    {
     "name": "stdout",
     "output_type": "stream",
     "text": [
      "Please enter a genre: Science Fiction\n",
      "---\n",
      "title: Parable of the Sower\n",
      "author: Octavia E. Butler\n",
      "genre: Science Fiction\n",
      "---\n",
      "title: Dune\n",
      "author: Frank Herbert\n",
      "genre: Science Fiction\n",
      "---\n",
      "title: Star Wars: The Old Republic - Revan\n",
      "author: Sean Williams\n",
      "genre: Science Fiction\n"
     ]
    }
   ],
   "source": [
    "books = [\n",
    "    {\"title\": \"This is where I leave you\", \"author\": \"Jonathan Tropper\", \"genre\": \"Adult Fiction\"},\n",
    "    {'title': 'Parable of the Sower', 'author': 'Octavia E. Butler', 'genre': 'Science Fiction'},\n",
    "    {\"title\": \"Dune\", \"author\": \"Frank Herbert\", \"genre\": \"Science Fiction\"},\n",
    "    {'title': 'The Singularity is Near', 'author': 'Ray Kurzweil', 'genre': 'Artificial intelligence/Technology'},\n",
    "    {\"title\": \"Star Wars: The Old Republic - Revan\", \"author\": \"Sean Williams\", \"genre\": \"Science Fiction\"},\n",
    "]\n",
    "\n",
    "selected_genre = input('Please enter a genre: ')\n",
    "selected_books = [book for book in books if book['genre'] == selected_genre]\n",
    "\n",
    "for book in selected_books:\n",
    "    print('---')\n",
    "    print('title: ' + book['title'])\n",
    "    print('author: ' + book['author'])\n",
    "    print('genre: ' + book['genre'])"
   ]
  }
 ],
 "metadata": {
  "kernelspec": {
   "display_name": "Python 3",
   "language": "python",
   "name": "python3"
  },
  "language_info": {
   "codemirror_mode": {
    "name": "ipython",
    "version": 3
   },
   "file_extension": ".py",
   "mimetype": "text/x-python",
   "name": "python",
   "nbconvert_exporter": "python",
   "pygments_lexer": "ipython3",
   "version": "3.7.3"
  }
 },
 "nbformat": 4,
 "nbformat_minor": 4
}
