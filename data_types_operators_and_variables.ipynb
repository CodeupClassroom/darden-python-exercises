{
 "cells": [
  {
   "cell_type": "code",
   "execution_count": 2,
   "metadata": {},
   "outputs": [
    {
     "data": {
      "text/plain": [
       "'My favorite number is 1. My favorite number plus one is 2'"
      ]
     },
     "execution_count": 2,
     "metadata": {},
     "output_type": "execute_result"
    }
   ],
   "source": [
    "# Formatted String\n",
    "number = 1\n",
    "\n",
    "# Put the letter f in front of the string quotes\n",
    "# Then curly braces around the variable\n",
    "string = f\"My favorite number is {number}. My favorite number plus one is {number + 1}\"\n",
    "string"
   ]
  },
  {
   "cell_type": "code",
   "execution_count": 3,
   "metadata": {},
   "outputs": [],
   "source": [
    "# How to use ipython/jupyter's code suggestions (list of possible functions)\n",
    "# Start with variable assignment\n",
    "name = \"Jane\""
   ]
  },
  {
   "cell_type": "code",
   "execution_count": null,
   "metadata": {},
   "outputs": [],
   "source": [
    "# Add a period after the variable\n",
    "# Then click TAB on your keyboard\n",
    "# This shows a list of methods available on that data type\n",
    "name."
   ]
  },
  {
   "cell_type": "code",
   "execution_count": 4,
   "metadata": {},
   "outputs": [],
   "source": [
    "# To see how a function works, type the variable\n",
    "# then type a period, find the function, and follow it with a question mark\n",
    "name.count?"
   ]
  },
  {
   "cell_type": "code",
   "execution_count": 5,
   "metadata": {},
   "outputs": [
    {
     "data": {
      "text/plain": [
       "1"
      ]
     },
     "execution_count": 5,
     "metadata": {},
     "output_type": "execute_result"
    }
   ],
   "source": [
    "name.count(\"a\")"
   ]
  },
  {
   "cell_type": "code",
   "execution_count": 6,
   "metadata": {},
   "outputs": [
    {
     "data": {
      "text/plain": [
       "0"
      ]
     },
     "execution_count": 6,
     "metadata": {},
     "output_type": "execute_result"
    }
   ],
   "source": [
    "name.count(\"Z\")"
   ]
  },
  {
   "cell_type": "code",
   "execution_count": 7,
   "metadata": {},
   "outputs": [],
   "source": [
    "numbers = [1, 2, 3]"
   ]
  },
  {
   "cell_type": "code",
   "execution_count": 8,
   "metadata": {},
   "outputs": [],
   "source": [
    "# Append alters the original list\n",
    "numbers.append(5)"
   ]
  },
  {
   "cell_type": "code",
   "execution_count": 9,
   "metadata": {},
   "outputs": [
    {
     "data": {
      "text/plain": [
       "[1, 2, 3, 5]"
      ]
     },
     "execution_count": 9,
     "metadata": {},
     "output_type": "execute_result"
    }
   ],
   "source": [
    "numbers"
   ]
  },
  {
   "cell_type": "code",
   "execution_count": 10,
   "metadata": {},
   "outputs": [],
   "source": [
    "numbers.append(7)"
   ]
  },
  {
   "cell_type": "code",
   "execution_count": 11,
   "metadata": {},
   "outputs": [
    {
     "data": {
      "text/plain": [
       "[1, 2, 3, 5, 7]"
      ]
     },
     "execution_count": 11,
     "metadata": {},
     "output_type": "execute_result"
    }
   ],
   "source": [
    "numbers"
   ]
  },
  {
   "cell_type": "code",
   "execution_count": 12,
   "metadata": {},
   "outputs": [
    {
     "data": {
      "text/plain": [
       "[2, 3, 4, 6, 8]"
      ]
     },
     "execution_count": 12,
     "metadata": {},
     "output_type": "execute_result"
    }
   ],
   "source": [
    "# List Comprehension is a way to operate on a list\n",
    "# Add one to ever number in a list\n",
    "[n + 1 for n in numbers]"
   ]
  },
  {
   "cell_type": "code",
   "execution_count": 13,
   "metadata": {},
   "outputs": [
    {
     "data": {
      "text/plain": [
       "[10, 20, 30, 40, 50, 60, 70, 80, 90, 100]"
      ]
     },
     "execution_count": 13,
     "metadata": {},
     "output_type": "execute_result"
    }
   ],
   "source": [
    "[n * 10 for n in range(1, 11)]"
   ]
  },
  {
   "cell_type": "code",
   "execution_count": 14,
   "metadata": {},
   "outputs": [
    {
     "data": {
      "text/plain": [
       "[50]"
      ]
     },
     "execution_count": 14,
     "metadata": {},
     "output_type": "execute_result"
    }
   ],
   "source": [
    "# list comprehension syntax\n",
    "# [\"operation on a single value\" for \"single_value\" in \"collection\"]\n",
    "# [\"operation on a single value\" for \"single_value\" in \"collection\" if \"conditional\"]\n",
    "[n * 10 for n in range(1, 11) if n == 5]"
   ]
  },
  {
   "cell_type": "code",
   "execution_count": 15,
   "metadata": {},
   "outputs": [
    {
     "data": {
      "text/plain": [
       "[20, 40, 60, 80, 100]"
      ]
     },
     "execution_count": 15,
     "metadata": {},
     "output_type": "execute_result"
    }
   ],
   "source": [
    "# If we only have an IF, the if goes after the collection we're iterating\n",
    "[n * 10 for n in range(1, 11) if n % 2 == 0]"
   ]
  },
  {
   "cell_type": "code",
   "execution_count": 24,
   "metadata": {},
   "outputs": [
    {
     "data": {
      "text/plain": [
       "[1, 20, 3, 40, 5, 60, 7, 80, 9, 100]"
      ]
     },
     "execution_count": 24,
     "metadata": {},
     "output_type": "execute_result"
    }
   ],
   "source": [
    "# if/else goes before the \"for n in\"\n",
    "[n * 10 if n % 2 == 0 else n for n in range(1, 11)]"
   ]
  },
  {
   "cell_type": "code",
   "execution_count": 21,
   "metadata": {},
   "outputs": [
    {
     "data": {
      "text/plain": [
       "[1,\n",
       " 2,\n",
       " 3,\n",
       " 4,\n",
       " 25,\n",
       " 6,\n",
       " 7,\n",
       " 8,\n",
       " 9,\n",
       " 50,\n",
       " 11,\n",
       " 12,\n",
       " 13,\n",
       " 14,\n",
       " 75,\n",
       " 16,\n",
       " 17,\n",
       " 18,\n",
       " 19,\n",
       " 100,\n",
       " 21,\n",
       " 22,\n",
       " 23,\n",
       " 24,\n",
       " 125,\n",
       " 26,\n",
       " 27,\n",
       " 28,\n",
       " 29,\n",
       " 150,\n",
       " 31,\n",
       " 32,\n",
       " 33,\n",
       " 34,\n",
       " 175,\n",
       " 36,\n",
       " 37,\n",
       " 38,\n",
       " 39,\n",
       " 200,\n",
       " 41,\n",
       " 42,\n",
       " 43,\n",
       " 44,\n",
       " 225,\n",
       " 46,\n",
       " 47,\n",
       " 48,\n",
       " 49,\n",
       " 250,\n",
       " 51,\n",
       " 52,\n",
       " 53,\n",
       " 54,\n",
       " 275,\n",
       " 56,\n",
       " 57,\n",
       " 58,\n",
       " 59,\n",
       " 300,\n",
       " 61,\n",
       " 62,\n",
       " 63,\n",
       " 64,\n",
       " 325,\n",
       " 66,\n",
       " 67,\n",
       " 68,\n",
       " 69,\n",
       " 350,\n",
       " 71,\n",
       " 72,\n",
       " 73,\n",
       " 74,\n",
       " 375,\n",
       " 76,\n",
       " 77,\n",
       " 78,\n",
       " 79,\n",
       " 400,\n",
       " 81,\n",
       " 82,\n",
       " 83,\n",
       " 84,\n",
       " 425,\n",
       " 86,\n",
       " 87,\n",
       " 88,\n",
       " 89,\n",
       " 450,\n",
       " 91,\n",
       " 92,\n",
       " 93,\n",
       " 94,\n",
       " 475,\n",
       " 96,\n",
       " 97,\n",
       " 98,\n",
       " 99,\n",
       " 500]"
      ]
     },
     "execution_count": 21,
     "metadata": {},
     "output_type": "execute_result"
    }
   ],
   "source": [
    "# Let's write a list comprehension where we output a list that start at 1, end at 100\n",
    "# but any multiple of 5 gets multiplied by 5 \n",
    "# all other numbers should return themselves\n",
    "# we'll need range(1, 101)\n",
    "# n % 5 == 0\n",
    "# n for n in range...\n",
    "# when stuck or any friction, search engine \"How to ABC with XYZ in Python\"\n",
    "[n*5 if n % 5 == 0 else n for n in range(1, 101)]"
   ]
  },
  {
   "cell_type": "code",
   "execution_count": 29,
   "metadata": {},
   "outputs": [
    {
     "data": {
      "text/plain": [
       "5"
      ]
     },
     "execution_count": 29,
     "metadata": {},
     "output_type": "execute_result"
    }
   ],
   "source": [
    "a = [1, 2, 3, 4, 5]\n",
    "a[-1]"
   ]
  },
  {
   "cell_type": "code",
   "execution_count": 32,
   "metadata": {},
   "outputs": [
    {
     "data": {
      "text/plain": [
       "[1, 2, 3, 4]"
      ]
     },
     "execution_count": 32,
     "metadata": {},
     "output_type": "execute_result"
    }
   ],
   "source": [
    "# slicing syntax is a colon\n",
    "# [start:end]\n",
    "# [start_index:end_index up to but not including]\n",
    "# a[0:4] starts at 0 goes up to index 4 (which is value #5) but not including\n",
    "a[0:4]"
   ]
  },
  {
   "cell_type": "code",
   "execution_count": 33,
   "metadata": {},
   "outputs": [
    {
     "data": {
      "text/plain": [
       "'na'"
      ]
     },
     "execution_count": 33,
     "metadata": {},
     "output_type": "execute_result"
    }
   ],
   "source": [
    "\"banana\"[2:4]"
   ]
  },
  {
   "cell_type": "code",
   "execution_count": 34,
   "metadata": {},
   "outputs": [
    {
     "data": {
      "text/plain": [
       "'nana'"
      ]
     },
     "execution_count": 34,
     "metadata": {},
     "output_type": "execute_result"
    }
   ],
   "source": [
    "# [start:] means go to the end\n",
    "\"banana\"[2:]"
   ]
  },
  {
   "cell_type": "code",
   "execution_count": 35,
   "metadata": {},
   "outputs": [
    {
     "data": {
      "text/plain": [
       "'bana'"
      ]
     },
     "execution_count": 35,
     "metadata": {},
     "output_type": "execute_result"
    }
   ],
   "source": [
    "# [:ending] means start at the start\n",
    "\"banana\"[:4]"
   ]
  },
  {
   "cell_type": "code",
   "execution_count": 37,
   "metadata": {},
   "outputs": [
    {
     "data": {
      "text/plain": [
       "'banan'"
      ]
     },
     "execution_count": 37,
     "metadata": {},
     "output_type": "execute_result"
    }
   ],
   "source": [
    "\"banana\"[:-1]"
   ]
  },
  {
   "cell_type": "code",
   "execution_count": null,
   "metadata": {},
   "outputs": [],
   "source": [
    "framing_thought = \"In what way does this apply to data science\"\n",
    "\n",
    "ryan_perspective = \"data types, data type methods are your hand-tools for working with data\""
   ]
  },
  {
   "cell_type": "code",
   "execution_count": 39,
   "metadata": {},
   "outputs": [
    {
     "data": {
      "text/plain": [
       "tuple"
      ]
     },
     "execution_count": 39,
     "metadata": {},
     "output_type": "execute_result"
    }
   ],
   "source": [
    "# tuple is a non-changeable list done w/ parens\n",
    "a = (1, 2, 3)\n",
    "type(a)"
   ]
  },
  {
   "cell_type": "code",
   "execution_count": 41,
   "metadata": {},
   "outputs": [
    {
     "name": "stdout",
     "output_type": "stream",
     "text": [
      "1\n",
      "2\n",
      "3\n"
     ]
    }
   ],
   "source": [
    "# unpacking the tuple\n",
    "b, c, d = a\n",
    "print(b)\n",
    "print(c)\n",
    "print(d)"
   ]
  },
  {
   "cell_type": "code",
   "execution_count": 51,
   "metadata": {},
   "outputs": [],
   "source": [
    "def train_validate_test_split():\n",
    "    train = 1\n",
    "    validate = 2\n",
    "    test = 3\n",
    "    return (train, validate, test)"
   ]
  },
  {
   "cell_type": "code",
   "execution_count": 52,
   "metadata": {},
   "outputs": [],
   "source": [
    "# unpacking the tuple from the return statement\n",
    "train, validate, test = train_validate_test_split()"
   ]
  },
  {
   "cell_type": "code",
   "execution_count": 53,
   "metadata": {},
   "outputs": [
    {
     "name": "stdout",
     "output_type": "stream",
     "text": [
      "1\n",
      "2\n",
      "3\n"
     ]
    }
   ],
   "source": [
    "print(train)\n",
    "print(validate)\n",
    "print(test)"
   ]
  },
  {
   "cell_type": "code",
   "execution_count": null,
   "metadata": {},
   "outputs": [],
   "source": [
    "# list is an ordered list of values\n",
    "# Dictionaries are labeled list"
   ]
  },
  {
   "cell_type": "code",
   "execution_count": 58,
   "metadata": {},
   "outputs": [],
   "source": [
    "# dictaries are lists of labeled values\n",
    "computer = {\n",
    "    \"memory\": \"8GB\",\n",
    "    \"hard_drive\": \"256GB\",\n",
    "    \"price\": 700,\n",
    "    \"make\": \"Lenovo\",\n",
    "    \"OS\": \"Windows 10 Home\",\n",
    "    \"installed_softare\": [\"Microsoft Office Home Pro 365 Max\", \"Bloatware\", \"Spyware\"]\n",
    "}"
   ]
  },
  {
   "cell_type": "code",
   "execution_count": 59,
   "metadata": {},
   "outputs": [
    {
     "data": {
      "text/plain": [
       "'8GB'"
      ]
     },
     "execution_count": 59,
     "metadata": {},
     "output_type": "execute_result"
    }
   ],
   "source": [
    "# accessing key => value paris\n",
    "computer[\"memory\"]"
   ]
  },
  {
   "cell_type": "code",
   "execution_count": 60,
   "metadata": {},
   "outputs": [],
   "source": [
    "death_star = {\n",
    "    \"name\": \"Death Star\", \n",
    "    \"model\": \"DS-1 Orbital Battle Station\", \n",
    "    \"manufacturer\": \"Imperial Department of Military Research, Sienar Fleet Systems\", \n",
    "    \"cost_in_credits\": \"1000000000000\", \n",
    "    \"length\": \"120000\", \n",
    "    \"max_atmosphering_speed\": \"n/a\", \n",
    "    \"crew\": \"342,953\", \n",
    "    \"passengers\": \"843,342\", \n",
    "    \"cargo_capacity\": \"1000000000000\", \n",
    "    \"consumables\": \"3 years\", \n",
    "    \"hyperdrive_rating\": \"4.0\", \n",
    "    \"MGLT\": \"10\", \n",
    "    \"starship_class\": \"Deep Space Mobile Battlestation\", \n",
    "    \"pilots\": [], \n",
    "    \"films\": [\n",
    "        \"http://swapi.dev/api/films/1/\"\n",
    "    ], \n",
    "    \"created\": \"2014-12-10T16:36:50.509000Z\", \n",
    "    \"edited\": \"2014-12-20T21:26:24.783000Z\", \n",
    "    \"url\": \"http://swapi.dev/api/starships/9/\"\n",
    "}"
   ]
  },
  {
   "cell_type": "code",
   "execution_count": 61,
   "metadata": {},
   "outputs": [
    {
     "data": {
      "text/plain": [
       "'Imperial Department of Military Research, Sienar Fleet Systems'"
      ]
     },
     "execution_count": 61,
     "metadata": {},
     "output_type": "execute_result"
    }
   ],
   "source": [
    "death_star[\"manufacturer\"]"
   ]
  },
  {
   "cell_type": "code",
   "execution_count": 62,
   "metadata": {},
   "outputs": [],
   "source": [
    "# reassign a dictionary's value at a key\n",
    "death_star[\"crew\"] = death_star[\"crew\"].replace(\",\", \"\")"
   ]
  },
  {
   "cell_type": "code",
   "execution_count": 63,
   "metadata": {},
   "outputs": [
    {
     "data": {
      "text/plain": [
       "'342953'"
      ]
     },
     "execution_count": 63,
     "metadata": {},
     "output_type": "execute_result"
    }
   ],
   "source": [
    "death_star[\"crew\"]"
   ]
  },
  {
   "cell_type": "code",
   "execution_count": 64,
   "metadata": {},
   "outputs": [],
   "source": [
    "death_star[\"crew\"] = int(death_star[\"crew\"])"
   ]
  },
  {
   "cell_type": "code",
   "execution_count": 65,
   "metadata": {},
   "outputs": [
    {
     "data": {
      "text/plain": [
       "{'name': 'Death Star',\n",
       " 'model': 'DS-1 Orbital Battle Station',\n",
       " 'manufacturer': 'Imperial Department of Military Research, Sienar Fleet Systems',\n",
       " 'cost_in_credits': '1000000000000',\n",
       " 'length': '120000',\n",
       " 'max_atmosphering_speed': 'n/a',\n",
       " 'crew': 342953,\n",
       " 'passengers': '843,342',\n",
       " 'cargo_capacity': '1000000000000',\n",
       " 'consumables': '3 years',\n",
       " 'hyperdrive_rating': '4.0',\n",
       " 'MGLT': '10',\n",
       " 'starship_class': 'Deep Space Mobile Battlestation',\n",
       " 'pilots': [],\n",
       " 'films': ['http://swapi.dev/api/films/1/'],\n",
       " 'created': '2014-12-10T16:36:50.509000Z',\n",
       " 'edited': '2014-12-20T21:26:24.783000Z',\n",
       " 'url': 'http://swapi.dev/api/starships/9/'}"
      ]
     },
     "execution_count": 65,
     "metadata": {},
     "output_type": "execute_result"
    }
   ],
   "source": [
    "death_star"
   ]
  },
  {
   "cell_type": "code",
   "execution_count": 66,
   "metadata": {},
   "outputs": [
    {
     "ename": "TypeError",
     "evalue": "can only concatenate str (not \"int\") to str",
     "output_type": "error",
     "traceback": [
      "\u001b[0;31m---------------------------------------------------------------------------\u001b[0m",
      "\u001b[0;31mTypeError\u001b[0m                                 Traceback (most recent call last)",
      "\u001b[0;32m<ipython-input-66-3809b855fdb8>\u001b[0m in \u001b[0;36m<module>\u001b[0;34m\u001b[0m\n\u001b[0;32m----> 1\u001b[0;31m \u001b[0mdeath_star\u001b[0m\u001b[0;34m[\u001b[0m\u001b[0;34m\"passengers\"\u001b[0m\u001b[0;34m]\u001b[0m \u001b[0;34m+\u001b[0m \u001b[0;36m1\u001b[0m\u001b[0;34m\u001b[0m\u001b[0;34m\u001b[0m\u001b[0m\n\u001b[0m",
      "\u001b[0;31mTypeError\u001b[0m: can only concatenate str (not \"int\") to str"
     ]
    }
   ],
   "source": [
    "# data type problem\n",
    "death_star[\"passengers\"] + 1 "
   ]
  },
  {
   "cell_type": "code",
   "execution_count": 67,
   "metadata": {},
   "outputs": [
    {
     "data": {
      "text/plain": [
       "'843,342'"
      ]
     },
     "execution_count": 67,
     "metadata": {},
     "output_type": "execute_result"
    }
   ],
   "source": [
    "death_star[\"passengers\"]"
   ]
  },
  {
   "cell_type": "code",
   "execution_count": 68,
   "metadata": {},
   "outputs": [
    {
     "data": {
      "text/plain": [
       "'843342'"
      ]
     },
     "execution_count": 68,
     "metadata": {},
     "output_type": "execute_result"
    }
   ],
   "source": [
    "# Shows that you can do the work, but we're not reassinging\n",
    "death_star[\"passengers\"].replace(\",\", \"\")"
   ]
  },
  {
   "cell_type": "code",
   "execution_count": 69,
   "metadata": {},
   "outputs": [],
   "source": [
    "death_star[\"passengers\"] = int(death_star[\"passengers\"].replace(\",\", \"\"))"
   ]
  },
  {
   "cell_type": "code",
   "execution_count": 70,
   "metadata": {},
   "outputs": [
    {
     "data": {
      "text/plain": [
       "{'name': 'Death Star',\n",
       " 'model': 'DS-1 Orbital Battle Station',\n",
       " 'manufacturer': 'Imperial Department of Military Research, Sienar Fleet Systems',\n",
       " 'cost_in_credits': '1000000000000',\n",
       " 'length': '120000',\n",
       " 'max_atmosphering_speed': 'n/a',\n",
       " 'crew': 342953,\n",
       " 'passengers': 843342,\n",
       " 'cargo_capacity': '1000000000000',\n",
       " 'consumables': '3 years',\n",
       " 'hyperdrive_rating': '4.0',\n",
       " 'MGLT': '10',\n",
       " 'starship_class': 'Deep Space Mobile Battlestation',\n",
       " 'pilots': [],\n",
       " 'films': ['http://swapi.dev/api/films/1/'],\n",
       " 'created': '2014-12-10T16:36:50.509000Z',\n",
       " 'edited': '2014-12-20T21:26:24.783000Z',\n",
       " 'url': 'http://swapi.dev/api/starships/9/'}"
      ]
     },
     "execution_count": 70,
     "metadata": {},
     "output_type": "execute_result"
    }
   ],
   "source": [
    "death_star"
   ]
  },
  {
   "cell_type": "code",
   "execution_count": 71,
   "metadata": {},
   "outputs": [],
   "source": [
    "death_star[\"passengers\"] = death_star[\"passengers\"] + 25"
   ]
  },
  {
   "cell_type": "code",
   "execution_count": 72,
   "metadata": {},
   "outputs": [
    {
     "data": {
      "text/plain": [
       "{'name': 'Death Star',\n",
       " 'model': 'DS-1 Orbital Battle Station',\n",
       " 'manufacturer': 'Imperial Department of Military Research, Sienar Fleet Systems',\n",
       " 'cost_in_credits': '1000000000000',\n",
       " 'length': '120000',\n",
       " 'max_atmosphering_speed': 'n/a',\n",
       " 'crew': 342953,\n",
       " 'passengers': 843367,\n",
       " 'cargo_capacity': '1000000000000',\n",
       " 'consumables': '3 years',\n",
       " 'hyperdrive_rating': '4.0',\n",
       " 'MGLT': '10',\n",
       " 'starship_class': 'Deep Space Mobile Battlestation',\n",
       " 'pilots': [],\n",
       " 'films': ['http://swapi.dev/api/films/1/'],\n",
       " 'created': '2014-12-10T16:36:50.509000Z',\n",
       " 'edited': '2014-12-20T21:26:24.783000Z',\n",
       " 'url': 'http://swapi.dev/api/starships/9/'}"
      ]
     },
     "execution_count": 72,
     "metadata": {},
     "output_type": "execute_result"
    }
   ],
   "source": [
    "death_star"
   ]
  },
  {
   "cell_type": "code",
   "execution_count": 73,
   "metadata": {},
   "outputs": [],
   "source": [
    "death_star[\"nickname\"] = \"That's no moon\""
   ]
  },
  {
   "cell_type": "code",
   "execution_count": 75,
   "metadata": {},
   "outputs": [
    {
     "data": {
      "text/plain": [
       "{'name': 'Death Star',\n",
       " 'model': 'DS-1 Orbital Battle Station',\n",
       " 'manufacturer': 'Imperial Department of Military Research, Sienar Fleet Systems',\n",
       " 'cost_in_credits': '1000000000000',\n",
       " 'length': '120000',\n",
       " 'max_atmosphering_speed': 'n/a',\n",
       " 'crew': 342953,\n",
       " 'passengers': 843367,\n",
       " 'cargo_capacity': '1000000000000',\n",
       " 'consumables': '3 years',\n",
       " 'hyperdrive_rating': '4.0',\n",
       " 'MGLT': '10',\n",
       " 'starship_class': 'Deep Space Mobile Battlestation',\n",
       " 'pilots': [],\n",
       " 'films': ['http://swapi.dev/api/films/1/'],\n",
       " 'created': '2014-12-10T16:36:50.509000Z',\n",
       " 'edited': '2014-12-20T21:26:24.783000Z',\n",
       " 'url': 'http://swapi.dev/api/starships/9/',\n",
       " 'nickname': \"That's no moon\"}"
      ]
     },
     "execution_count": 75,
     "metadata": {},
     "output_type": "execute_result"
    }
   ],
   "source": [
    "death_star"
   ]
  },
  {
   "cell_type": "code",
   "execution_count": null,
   "metadata": {},
   "outputs": [],
   "source": []
  }
 ],
 "metadata": {
  "kernelspec": {
   "display_name": "Python 3",
   "language": "python",
   "name": "python3"
  },
  "language_info": {
   "codemirror_mode": {
    "name": "ipython",
    "version": 3
   },
   "file_extension": ".py",
   "mimetype": "text/x-python",
   "name": "python",
   "nbconvert_exporter": "python",
   "pygments_lexer": "ipython3",
   "version": "3.7.3"
  }
 },
 "nbformat": 4,
 "nbformat_minor": 4
}
