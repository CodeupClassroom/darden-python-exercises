{
 "cells": [
  {
   "cell_type": "code",
   "execution_count": null,
   "metadata": {},
   "outputs": [],
   "source": [
    "# 17 list comprehension problems in python\n",
    "\n",
    "fruits = ['mango', 'kiwi', 'strawberry', 'guava', 'pineapple', 'mandarin orange']\n",
    "\n",
    "numbers = [2, 3, 4, 5, 6, 7, 8, 9, 10, 11, 13, 17, 19, 23, 256, -8, -4, -2, 5, -9]\n",
    "\n",
    "# Example for loop solution to add 1 to each number in the list\n",
    "numbers_plus_one = []\n",
    "\n",
    "# for singular_variable_name in plurals_variable_name\n",
    "for number in numbers:\n",
    "    numbers_plus_one.append(number + 1)\n",
    "\n",
    "# Example of using a list comprehension to create a list of the numbers plus one.\n",
    "numbers_plus_one = [number + 1 for number in numbers]"
   ]
  },
  {
   "cell_type": "code",
   "execution_count": 2,
   "metadata": {},
   "outputs": [
    {
     "data": {
      "text/plain": [
       "['MANGO', 'KIWI', 'STRAWBERRY', 'GUAVA', 'PINEAPPLE', 'MANDARIN ORANGE']"
      ]
     },
     "execution_count": 2,
     "metadata": {},
     "output_type": "execute_result"
    }
   ],
   "source": [
    "# Example code that creates a list of all of the strings in fruits and uppercases every string\n",
    "output = []\n",
    "for fruit in fruits:\n",
    "    output.append(fruit.upper())\n",
    "output"
   ]
  },
  {
   "cell_type": "code",
   "execution_count": 6,
   "metadata": {},
   "outputs": [
    {
     "data": {
      "text/plain": [
       "['MANGO', 'KIWI', 'STRAWBERRY', 'GUAVA', 'PINEAPPLE', 'MANDARIN ORANGE']"
      ]
     },
     "execution_count": 6,
     "metadata": {},
     "output_type": "execute_result"
    }
   ],
   "source": [
    "# Exercise 1 - rewrite the above example code using list comprehension syntax. Make a variable named uppercased_fruits to hold the output of the list comprehension. Output should be ['MANGO', 'KIWI', etc...]\n",
    "uppercased_fruits = [fruit.upper() for fruit in fruits]\n",
    "uppercased_fruits"
   ]
  },
  {
   "cell_type": "code",
   "execution_count": 8,
   "metadata": {},
   "outputs": [
    {
     "data": {
      "text/plain": [
       "['Mango', 'Kiwi', 'Strawberry', 'Guava', 'Pineapple', 'Mandarin orange']"
      ]
     },
     "execution_count": 8,
     "metadata": {},
     "output_type": "execute_result"
    }
   ],
   "source": [
    "# Exercise 2 - create a variable named capitalized_fruits and use list comprehension syntax to produce output like ['Mango', 'Kiwi', 'Strawberry', etc...]\n",
    "capitalized_fruits = [fruit.capitalize() for fruit in fruits]\n",
    "capitalized_fruits\n"
   ]
  },
  {
   "cell_type": "code",
   "execution_count": 12,
   "metadata": {},
   "outputs": [
    {
     "data": {
      "text/plain": [
       "'this is an example'"
      ]
     },
     "execution_count": 12,
     "metadata": {},
     "output_type": "execute_result"
    }
   ],
   "source": [
    "string = \"this is an example\"\n",
    "print(string.capitalize()) # string methods operate on the original and return a transformed copy\n",
    "print(string.swapcase()) # string methods operate on the original and return a transformed copy\n",
    "string"
   ]
  },
  {
   "cell_type": "code",
   "execution_count": 42,
   "metadata": {},
   "outputs": [
    {
     "name": "stdout",
     "output_type": "stream",
     "text": [
      "p\n",
      "i\n",
      "n\n",
      "e\n",
      "a\n",
      "pinea\n",
      "piNea\n"
     ]
    },
    {
     "data": {
      "text/plain": [
       "'piNeapple'"
      ]
     },
     "execution_count": 42,
     "metadata": {},
     "output_type": "execute_result"
    }
   ],
   "source": [
    "# Exercise - capitalize every 3rd character in all the strings of the list of fruits\n",
    "# Our task here is to capitalize the 3rd character in ONE string\n",
    "fruit = \"pineapple\"\n",
    "print(fruit[0])\n",
    "print(fruit[1])\n",
    "print(fruit[2])\n",
    "print(fruit[3])\n",
    "print(fruit[4])\n",
    "\n",
    "# Start w/ a hard-coded solution on a concrete example\n",
    "print(fruit[0] + fruit[1] + fruit[2] + fruit[3] + fruit[4])\n",
    "\n",
    "# Sort out the sequence of steps in a hard-coded way before extracting a pattern\n",
    "print(fruit[0] + fruit[1] + fruit[2].capitalize() + fruit[3] + fruit[4])\n",
    "\n",
    "# It looks like the first part of the string will be the following\n",
    "first_part = fruit[0] + fruit[1] + fruit[2].capitalize()\n",
    "# Now our task is to figure out the last part of the string\n",
    "# What does \"the last part\" of the string mean in Python\n",
    "# a person understands \"the last part\"\n",
    "# but what's the Python code? \n",
    "# How do we find what we're looking for in a google search?\n",
    "# Let's do a search for how to get part of a string after an index\n",
    "# search \"how to get part of a string after an index\" in a search engine\n",
    "\n",
    "last_part = fruit[3:]\n",
    "first_part + last_part"
   ]
  },
  {
   "cell_type": "code",
   "execution_count": 43,
   "metadata": {},
   "outputs": [
    {
     "data": {
      "text/plain": [
       "['maNgo', 'kiWi', 'stRawberry', 'guAva', 'piNeapple', 'maNdarin orange']"
      ]
     },
     "execution_count": 43,
     "metadata": {},
     "output_type": "execute_result"
    }
   ],
   "source": [
    "# If you can do something to one string, you can apply that to a list of strings\n",
    "[fruit[0] + fruit[1] + fruit[2].capitalize() + fruit[3:] for fruit in fruits]"
   ]
  },
  {
   "cell_type": "code",
   "execution_count": 33,
   "metadata": {},
   "outputs": [
    {
     "data": {
      "text/plain": [
       "['maNgo', 'kiWi', 'stRawberry', 'guAva', 'piNeapple', 'maNdarin orange']"
      ]
     },
     "execution_count": 33,
     "metadata": {},
     "output_type": "execute_result"
    }
   ],
   "source": [
    "# Exercise - capitalize every 3rd character in all the strings of the list of fruits\n",
    "\n",
    "# fruit[2].capitalize()\n",
    "# [fruit[2].capitalize() for fruit in fruits] # almost but not quite\n",
    "# [fruit[] + fruit[2].swapcase() for fruit in fruits]\n",
    "fruit = \"apple\"\n",
    "\n",
    "# fruit[0:2] + fruit[2].capitalize() + fruit[3:]\n",
    "\n",
    "[fruit[0:2] + fruit[2].capitalize() + fruit[3:] for fruit in fruits]"
   ]
  },
  {
   "cell_type": "markdown",
   "metadata": {},
   "source": [
    "2 kinds of problems\n",
    "- logic problem\n",
    "- syntax problems. Always look these up immediately. Don't worry about divining this..."
   ]
  },
  {
   "cell_type": "code",
   "execution_count": 60,
   "metadata": {},
   "outputs": [],
   "source": [
    "def is_vowel(string):\n",
    "    return string.lower() in (\"a\", \"e\", \"i\", \"o\", \"u\")"
   ]
  },
  {
   "cell_type": "code",
   "execution_count": 61,
   "metadata": {},
   "outputs": [],
   "source": [
    "def count_vowels(string):\n",
    "    count = 0\n",
    "    for letter in string:\n",
    "        if is_vowel(letter):\n",
    "            count += 1\n",
    "    return count"
   ]
  },
  {
   "cell_type": "code",
   "execution_count": 62,
   "metadata": {},
   "outputs": [
    {
     "data": {
      "text/plain": [
       "['guava', 'pineapple', 'mandarin orange']"
      ]
     },
     "execution_count": 62,
     "metadata": {},
     "output_type": "execute_result"
    }
   ],
   "source": [
    "[fruit for fruit in fruits if count_vowels(fruit) > 2]"
   ]
  },
  {
   "cell_type": "code",
   "execution_count": 56,
   "metadata": {},
   "outputs": [
    {
     "data": {
      "text/plain": [
       "['guava', 'pineapple', 'mandarin orange']"
      ]
     },
     "execution_count": 56,
     "metadata": {},
     "output_type": "execute_result"
    }
   ],
   "source": [
    "# Exercise 3 - Use a list comprehension to \n",
    "# make a variable named fruits_with_more_than_two_vowels. \n",
    "# Hint: You'll need a way to check if something is a vowel.\n",
    "fruit = \"mango\"\n",
    "fruit.count(\"a\") + fruit.count(\"e\") + fruit.count(\"i\") + fruit.count(\"o\") + fruit.count(\"u\")\n",
    "\n",
    "if (\n",
    "    fruit.count(\"a\") + \n",
    "    fruit.count(\"e\") + \n",
    "    fruit.count(\"i\") + \n",
    "    fruit.count(\"o\") + \n",
    "    fruit.count(\"u\")) > 2:\n",
    "    print(fruit)\n",
    "\n",
    "# [operation on singular for singular in plural if condition]\n",
    "[fruit for fruit in fruits if (\n",
    "    fruit.count(\"a\") + \n",
    "    fruit.count(\"e\") + \n",
    "    fruit.count(\"i\") + \n",
    "    fruit.count(\"o\") + \n",
    "     fruit.count(\"u\")) > 2]"
   ]
  },
  {
   "cell_type": "code",
   "execution_count": 57,
   "metadata": {},
   "outputs": [
    {
     "data": {
      "text/plain": [
       "['mango', 'kiwi', 'strawberry']"
      ]
     },
     "execution_count": 57,
     "metadata": {},
     "output_type": "execute_result"
    }
   ],
   "source": [
    "# Exercise 4 - make a variable named fruits_with_only_two_vowels. The result should be ['mango', 'kiwi', 'strawberry']\n",
    "fruits_with_only_two_vowels = [fruit for fruit in fruits if (\n",
    "    fruit.count(\"a\") + \n",
    "    fruit.count(\"e\") + \n",
    "    fruit.count(\"i\") + \n",
    "    fruit.count(\"o\") + \n",
    "     fruit.count(\"u\")) == 2]\n",
    "\n",
    "fruits_with_only_two_vowels"
   ]
  },
  {
   "cell_type": "code",
   "execution_count": null,
   "metadata": {},
   "outputs": [],
   "source": []
  }
 ],
 "metadata": {
  "kernelspec": {
   "display_name": "Python 3",
   "language": "python",
   "name": "python3"
  },
  "language_info": {
   "codemirror_mode": {
    "name": "ipython",
    "version": 3
   },
   "file_extension": ".py",
   "mimetype": "text/x-python",
   "name": "python",
   "nbconvert_exporter": "python",
   "pygments_lexer": "ipython3",
   "version": "3.7.3"
  }
 },
 "nbformat": 4,
 "nbformat_minor": 4
}
